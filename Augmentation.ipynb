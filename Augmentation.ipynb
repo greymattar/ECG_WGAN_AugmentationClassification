{
  "nbformat": 4,
  "nbformat_minor": 0,
  "metadata": {
    "colab": {
      "provenance": [],
      "gpuType": "T4",
      "authorship_tag": "ABX9TyOWnMZ6ddH3fnIkk8UP1MLX",
      "include_colab_link": true
    },
    "kernelspec": {
      "name": "python3",
      "display_name": "Python 3"
    },
    "language_info": {
      "name": "python"
    }
  },
  "cells": [
    {
      "cell_type": "markdown",
      "metadata": {
        "id": "view-in-github",
        "colab_type": "text"
      },
      "source": [
        "<a href=\"https://colab.research.google.com/github/greymattar/ECG_WGAN_AugmentationClassification/blob/main/Augmentation.ipynb\" target=\"_parent\"><img src=\"https://colab.research.google.com/assets/colab-badge.svg\" alt=\"Open In Colab\"/></a>"
      ]
    },
    {
      "cell_type": "code",
      "source": [
        "#splitting into training and testing\n",
        "import json\n",
        "import os\n",
        "import random\n",
        "import sys\n",
        "\n",
        "import matplotlib.pyplot as plt\n",
        "import numpy as np\n",
        "import torch\n",
        "import torch.optim as optim\n",
        "from datetime import datetime\n",
        "from torch.utils.data import DataLoader, TensorDataset\n",
        "import torch.nn.functional as F\n",
        "from sklearn.metrics import roc_auc_score, precision_recall_curve, auc\n",
        "import csv\n",
        "from torchvision import datasets\n",
        "import torchvision.transforms as transforms\n",
        "from collections import Counter\n",
        "import gc\n",
        "import copy\n",
        "\n",
        "from tqdm import tqdm\n",
        "\n",
        "from ekg_class import dicts\n",
        "import torch.nn as nn\n",
        "from models_classifier import EcgResNet34\n",
        "from sklearn.metrics import classification_report as report\n",
        "from sklearn.metrics import confusion_matrix as cf_matrix\n",
        "from utils import print_confusion_matrix\n",
        "\n",
        "os.environ['CUDA_LAUNCH_BLOCKING'] = \"1\"\n",
        "\n",
        "num2descr, letter2num, letter2descr, num2letter = dicts()\n",
        "start_time = datetime.now()\n",
        "\n",
        "print((\"\\n\" + \"*\" * 61 + \"\\n\\t\\t\\t\\t\\tstart time  {0:02d}:{1:02d}:{2:02.0f}\\n\" + \"*\" * 61).format(\n",
        "    start_time.hour, start_time.minute, start_time.second))\n",
        "\n",
        "drive = \"\"\n",
        "myPath_base = os.path.join(drive, \"\")\n",
        "path_aux = 'paper3_DM\\\\paper3_data'\n",
        "myPath_base = os.path.join(myPath_base, '')\n",
        "\n",
        "device = torch.device(\"cuda\" if torch.cuda.is_available() else \"cpu\")\n",
        "\n",
        "# Hyper-parameters etc.\n",
        "dry_run = False\n",
        "BATCH_SIZE = 16\n",
        "LEARNING_RATE = 1e-3\n",
        "NUM_CLASSES = 9\n",
        "tr_ts_ratio = 0.9     # \"training set / test set\" split ratio\n",
        "len_ratio = 1\n",
        "\n",
        "if dry_run:\n",
        "    NUM_EPOCHS = 1\n",
        "else:\n",
        "    NUM_EPOCHS = 10\n",
        "#classes2keep = ['/', 'A', 'L', 'N', 'R', 'f', 'j']\n",
        "#classes2keep_folder = ['P', 'A', 'L', 'N', 'R', 'f', 'j']\n",
        "\n",
        "classes2keep = ['N','/', 'A', 'L', 'R', 'f', 'j','F','a']\n",
        "classes2keep_folder = ['N','P', 'A', 'L','R', 'f', 'j','F','a']\n",
        "\n",
        "\n",
        "key_aug = \"aug\"\n",
        "#key_aug = \"notaug\";\n",
        "\n",
        "key_bal = 'balanced'\n",
        "#key_bal = 'imbalanced';\n",
        "\n",
        "# key_case = 'rl'\n",
        "# key_case = \"02\"\n",
        "key_case = \"wgan\"\n",
        "\n",
        "len_ratio = 1                   # shorter train sets\n",
        "#len_ratio = 1                  # shorter train sets\n",
        "num_samples = 8000\n",
        "tst_len = 1000\n",
        "print('\\ncase: {}, {}, {}\\n'.format(key_case, key_bal, key_aug))\n",
        "# num_N_samples = int(len_ratio*num_samples)\n",
        "\n",
        "if '.' in str(len_ratio):\n",
        "    len_ratio_str = str(len_ratio).replace('.', '')\n",
        "else:\n",
        "    len_ratio_str = str(len_ratio)\n",
        "\n",
        "# %%%%%%%%%%%%%%%%%%%%%%%%%%%%%%%%%%%%%%%%%%%%%%%%%%%%%%%%%%%%%%%%%%%%%%%%%%%%%%%%%%\n",
        "path = \"gb_dm_case_{}\".format(key_case)\n",
        "myPath_save = os.path.join(myPath_base, path)\n",
        "os.makedirs(myPath_save, exist_ok=True)\n",
        "\n",
        "brk = 'here'\n",
        "\n",
        "#%%%%%%%%%%%%%%%%%%%%%%%%%%%%%%%%%   begin: From whole database select training and testing set   %%%%%%%%%%%%%%%%%%\n",
        "\n",
        "\n",
        "d_set = \"MIT_BIH/tesing\"\n",
        "myPath_save = os.path.join(myPath_base, \"PycharmProjects\\\\paper2_gen_data\\\\\", d_set,\"classifier_wgan_gpFinal_cl_{}_{}\".format(key_bal,classes2keep_folder))\n",
        "os.makedirs(myPath_save, exist_ok=True)\n",
        "\n",
        "\n",
        "# %%%%%%%%%%%%%%%%       begin MIT-BIH Dataset      %%%%%%%%%%%%%%%%%%%%%%%%%%%%\n",
        "\n",
        "with open(os.path.join(myPath_base, \"record_X_y_adapt_win_bef075_aft075_Normalized.json\"), \"r\") as f:\n",
        "    data = json.load(f)\n",
        "\n",
        "stats_all_classes = Counter(np.asarray(data, dtype=object)[:, 2])\n",
        "\n",
        "classes2gb = ['P', 'A', 'L','R', 'f', 'j','F','a']\n",
        "classes2gb_count=['/', 'A', 'L','R', 'f', 'j','F','a']\n",
        "\n",
        "class_counts = {class_label: 0 for class_label in classes2gb_count}\n",
        "\n",
        "# create dictionary of data to be kept\n",
        "vals = []\n",
        "for idx in range(len(classes2keep)):\n",
        "    vals.append([])\n",
        "\n",
        "data2keep_dict = dict(zip(classes2keep, vals))\n",
        "data_train_dict = dict(zip(classes2keep_folder, vals))\n",
        "data_test_dict = dict(zip(classes2keep_folder, vals))\n",
        "count_N = 0\n",
        "for item in data:\n",
        "    if item[2] == 'N'  and count_N < 10000:  # Add condition to limit 'N' data to 10000\n",
        "        data2keep_dict[item[2]].append(item[1])\n",
        "        count_N += 1\n",
        "    elif item[2]!='N' and item[2] in classes2keep:\n",
        "        data2keep_dict[item[2]].append(item[1])\n",
        "        class_counts[item[2]] += 1\n",
        "del data\n",
        "\n",
        "if '/' in classes2keep:\n",
        "    temp = data2keep_dict['/']\n",
        "    data2keep_dict.pop('/')\n",
        "    data2keep_dict['P'] = temp\n",
        "\n",
        "    temp = class_counts['/']\n",
        "    class_counts.pop('/')\n",
        "    class_counts['P'] = temp\n",
        "\n",
        "\n",
        "\n",
        "max_items_per_class= 10000\n",
        "with open(os.path.join(myPath_base, \"gb_together.json\"), \"r\") as f:\n",
        "    data_gb = json.load(f)\n",
        "\n",
        "\n",
        "\n",
        "\n",
        "for item in data_gb:\n",
        "    if item[1] in classes2gb and class_counts[item[1]] < max_items_per_class:\n",
        "        data2keep_dict[item[1]].append(item[0])\n",
        "        class_counts[item[1]] += 1\n",
        "\n",
        "del data_gb\n",
        "\n",
        "\n",
        "\n",
        "# randomly splitting the dataset into train and test sets\n",
        "for key in data2keep_dict.keys():\n",
        "    val_len = len(data2keep_dict[key])\n",
        "    idx_train = torch.randperm(val_len)[:int(tr_ts_ratio * val_len)]\n",
        "    idx_test = torch.randperm(val_len)[int(tr_ts_ratio * val_len)+1:]\n",
        "    data_train_dict[key] = [data2keep_dict[key][idx] for idx in idx_train]\n",
        "    data_test_dict[key] = [data2keep_dict[key][idx] for idx in idx_test]\n",
        "'''\n",
        "if '/' in classes2keep:\n",
        "    temp = data2keep_dict['/']\n",
        "    data2keep_dict.pop('/')\n",
        "    data2keep_dict['P'] = temp\n",
        "\n",
        "    temp = data_train_dict['/']\n",
        "    data_train_dict.pop('/')\n",
        "    data_train_dict['P'] = temp\n",
        "\n",
        "    temp = data_test_dict['/']\n",
        "    data_test_dict.pop('/')\n",
        "    data_test_dict['P'] = temp\n",
        "\n",
        "'''\n",
        "# create X, y for train and test sets\n",
        "X_train = []\n",
        "y_train = []\n",
        "for key in data_train_dict.keys():\n",
        "    X_train.extend(data_train_dict[key])\n",
        "    idx = [classes2keep_folder.index(key)] * len(data_train_dict[key])\n",
        "    y_train.extend(idx)\n",
        "\n",
        "X_test = []\n",
        "y_test = []\n",
        "for key in data_test_dict.keys():\n",
        "    X_test.extend(data_test_dict[key])\n",
        "    idx = [classes2keep_folder.index(key)] * len(data_test_dict[key])\n",
        "    y_test.extend(idx)\n",
        "\n",
        "y_test_stat = Counter(y_test)\n",
        "y_train_stat = Counter(y_train)\n",
        "\n",
        "print(\"train: {}\".format(y_train_stat))\n",
        "print(\"test: {}\".format(y_test_stat))\n",
        "\n",
        "\n",
        "a = 0\n",
        "with open(os.path.join(myPath_save, \"X_train.json\"), \"w\") as f:\n",
        "    json.dump(X_train, f)\n",
        "with open(os.path.join(myPath_save, \"y_train.json\"), \"w\") as f:\n",
        "    json.dump(y_train, f)\n",
        "with open(os.path.join(myPath_save, \"X_test.json\"), \"w\") as f:\n",
        "    json.dump(X_test, f)\n",
        "with open(os.path.join(myPath_save, \"y_test.json\"), \"w\") as f:\n",
        "    json.dump(y_test, f)\n",
        "\n",
        "a=0\n"
      ],
      "metadata": {
        "colab": {
          "base_uri": "https://localhost:8080/"
        },
        "id": "kf2E9MGmSzeI",
        "outputId": "0f796988-5423-41d1-ccde-e5eef0272041"
      },
      "execution_count": null,
      "outputs": [
        {
          "output_type": "stream",
          "name": "stdout",
          "text": [
            "\n",
            "*************************************************************\n",
            "\t\t\t\t\tstart time  22:44:19\n",
            "*************************************************************\n",
            "\n",
            "case: wgan, balanced, aug\n",
            "\n",
            "train: Counter({0: 9000, 2: 9000, 3: 9000, 4: 9000, 5: 9000, 7: 9000, 8: 9000, 6: 8307, 1: 6325})\n",
            "test: Counter({0: 999, 2: 999, 3: 999, 4: 999, 5: 999, 7: 999, 8: 999, 6: 922, 1: 702})\n"
          ]
        }
      ]
    },
    {
      "cell_type": "code",
      "source": [
        "pip install wfdb"
      ],
      "metadata": {
        "colab": {
          "base_uri": "https://localhost:8080/"
        },
        "id": "kmvCmeQQZJ0Z",
        "outputId": "1ce4f4d7-cf61-4491-98f4-c0486895d2ee"
      },
      "execution_count": null,
      "outputs": [
        {
          "output_type": "stream",
          "name": "stdout",
          "text": [
            "Looking in indexes: https://pypi.org/simple, https://us-python.pkg.dev/colab-wheels/public/simple/\n",
            "Collecting wfdb\n",
            "  Downloading wfdb-4.1.2-py3-none-any.whl (159 kB)\n",
            "\u001b[2K     \u001b[90m━━━━━━━━━━━━━━━━━━━━━━━━━━━━━━━━━━━━━━\u001b[0m \u001b[32m160.0/160.0 kB\u001b[0m \u001b[31m10.8 MB/s\u001b[0m eta \u001b[36m0:00:00\u001b[0m\n",
            "\u001b[?25hRequirement already satisfied: SoundFile>=0.10.0 in /usr/local/lib/python3.10/dist-packages (from wfdb) (0.12.1)\n",
            "Requirement already satisfied: matplotlib>=3.2.2 in /usr/local/lib/python3.10/dist-packages (from wfdb) (3.7.1)\n",
            "Requirement already satisfied: numpy>=1.10.1 in /usr/local/lib/python3.10/dist-packages (from wfdb) (1.22.4)\n",
            "Requirement already satisfied: pandas>=1.3.0 in /usr/local/lib/python3.10/dist-packages (from wfdb) (1.5.3)\n",
            "Requirement already satisfied: requests>=2.8.1 in /usr/local/lib/python3.10/dist-packages (from wfdb) (2.27.1)\n",
            "Requirement already satisfied: scipy>=1.0.0 in /usr/local/lib/python3.10/dist-packages (from wfdb) (1.10.1)\n",
            "Requirement already satisfied: contourpy>=1.0.1 in /usr/local/lib/python3.10/dist-packages (from matplotlib>=3.2.2->wfdb) (1.1.0)\n",
            "Requirement already satisfied: cycler>=0.10 in /usr/local/lib/python3.10/dist-packages (from matplotlib>=3.2.2->wfdb) (0.11.0)\n",
            "Requirement already satisfied: fonttools>=4.22.0 in /usr/local/lib/python3.10/dist-packages (from matplotlib>=3.2.2->wfdb) (4.40.0)\n",
            "Requirement already satisfied: kiwisolver>=1.0.1 in /usr/local/lib/python3.10/dist-packages (from matplotlib>=3.2.2->wfdb) (1.4.4)\n",
            "Requirement already satisfied: packaging>=20.0 in /usr/local/lib/python3.10/dist-packages (from matplotlib>=3.2.2->wfdb) (23.1)\n",
            "Requirement already satisfied: pillow>=6.2.0 in /usr/local/lib/python3.10/dist-packages (from matplotlib>=3.2.2->wfdb) (8.4.0)\n",
            "Requirement already satisfied: pyparsing>=2.3.1 in /usr/local/lib/python3.10/dist-packages (from matplotlib>=3.2.2->wfdb) (3.1.0)\n",
            "Requirement already satisfied: python-dateutil>=2.7 in /usr/local/lib/python3.10/dist-packages (from matplotlib>=3.2.2->wfdb) (2.8.2)\n",
            "Requirement already satisfied: pytz>=2020.1 in /usr/local/lib/python3.10/dist-packages (from pandas>=1.3.0->wfdb) (2022.7.1)\n",
            "Requirement already satisfied: urllib3<1.27,>=1.21.1 in /usr/local/lib/python3.10/dist-packages (from requests>=2.8.1->wfdb) (1.26.16)\n",
            "Requirement already satisfied: certifi>=2017.4.17 in /usr/local/lib/python3.10/dist-packages (from requests>=2.8.1->wfdb) (2023.5.7)\n",
            "Requirement already satisfied: charset-normalizer~=2.0.0 in /usr/local/lib/python3.10/dist-packages (from requests>=2.8.1->wfdb) (2.0.12)\n",
            "Requirement already satisfied: idna<4,>=2.5 in /usr/local/lib/python3.10/dist-packages (from requests>=2.8.1->wfdb) (3.4)\n",
            "Requirement already satisfied: cffi>=1.0 in /usr/local/lib/python3.10/dist-packages (from SoundFile>=0.10.0->wfdb) (1.15.1)\n",
            "Requirement already satisfied: pycparser in /usr/local/lib/python3.10/dist-packages (from cffi>=1.0->SoundFile>=0.10.0->wfdb) (2.21)\n",
            "Requirement already satisfied: six>=1.5 in /usr/local/lib/python3.10/dist-packages (from python-dateutil>=2.7->matplotlib>=3.2.2->wfdb) (1.16.0)\n",
            "Installing collected packages: wfdb\n",
            "Successfully installed wfdb-4.1.2\n"
          ]
        }
      ]
    },
    {
      "cell_type": "code",
      "source": [
        "from google.colab import drive\n",
        "drive.mount ('/content/gdrive')\n",
        "import sys\n",
        "import os\n",
        "#sys.path.append('/content/gdrive/MyDrive/Augmentation-of-ECG-Training-Dataset-with-CGAN-main')\n",
        "os.chdir('/content/gdrive/MyDrive/Augmentation-of-ECG-Training-Dataset-with-CGAN-main')\n",
        "print(os.getcwd())"
      ],
      "metadata": {
        "colab": {
          "base_uri": "https://localhost:8080/"
        },
        "id": "eUBn-_EpY0MO",
        "outputId": "ea9bf82f-3853-4136-e07d-154ca5c75742"
      },
      "execution_count": null,
      "outputs": [
        {
          "output_type": "stream",
          "name": "stdout",
          "text": [
            "Mounted at /content/gdrive\n",
            "/content/gdrive/MyDrive/Augmentation-of-ECG-Training-Dataset-with-CGAN-main\n"
          ]
        }
      ]
    },
    {
      "cell_type": "code",
      "source": [
        "\n",
        "\n",
        "trn_set = TensorDataset(torch.tensor(X_train), torch.tensor(y_train))\n",
        "tst_set = TensorDataset(torch.tensor(X_test), torch.tensor(y_test))\n",
        "trn_loader = DataLoader(trn_set, batch_size=BATCH_SIZE, shuffle=True, drop_last=True)\n",
        "tst_loader = DataLoader(tst_set, batch_size=BATCH_SIZE, shuffle=True, drop_last=True)\n",
        "\n",
        "brk = 'here'\n",
        "# %%%%%%%%%%%%%%%%%     begin save sample plots of classes in classes2keep    %%%%%%%%%%%%%%%%%%%%\n",
        "'''\n",
        "for cl in classes2keep:\n",
        "    fig, axes = plt.subplots(nrows=3, ncols=3)\n",
        "    fig.suptitle(\"Class {} ({}: {}), count: {}\".\n",
        "                 format(classes2keep.index(cl), cl, letter2descr[cl], len(data2keep_dict[cl])))\n",
        "\n",
        "    count = 0\n",
        "    for i in range(3):\n",
        "        for j in range(3):\n",
        "            count += 1\n",
        "            if count >= len(data2keep_dict[cl]):\n",
        "                continue\n",
        "            axes[i][j].plot(data2keep_dict[cl][count])\n",
        "            axes[i][j].grid()\n",
        "    plt.savefig(os.path.join(myPath_save, \"00_sample_cl_{}.png\".format(classes2keep.index(cl))))\n",
        "\n",
        "plt.close(\"all\")\n",
        "'''\n",
        "# %%%%%%%%%%%%%%%%%     end save sample plots of classes in classes2keep      %%%%%%%%%%%%%%%%%%%%\n",
        "\n",
        "\n",
        "# %%%%%%%%%%%%%%%%%%%% begin:     Select and Initialize Network       %%%%%%%%%%%%%%%%%%%%%%%%%%%%\n",
        "# net = net_cnn(num_classes=NUM_CLASSES).to(device)\n",
        "# net = net_fc(input_size=INPUT_SIZE, num_classes=NUM_CLASSES).to(device)\n",
        "net = EcgResNet34(num_classes=NUM_CLASSES).to(device)\n",
        "\n",
        "# loss function and optimizer\n",
        "criterion = nn.CrossEntropyLoss()\n",
        "optimizer = optim.Adam(net.parameters(), lr=LEARNING_RATE)\n",
        "# %%%%%%%%%%%%%%%%%%%% end:     Select and Initialize Network       %%%%%%%%%%%%%%%%%%%%%%%%%%%%\n",
        "\n",
        "\n",
        "NUM_EPOCHS = 10\n",
        "# %%%%%%%%%%%%%%%%%%%%    begin:  Train Classifier       %%%%%%%%%%%%%%%%%%%%%%%%%%\n",
        "for epoch in range(NUM_EPOCHS):\n",
        "    for batch_idx, (inputs, labels) in enumerate(trn_loader, 0):\n",
        "        inputs = inputs.to(device)\n",
        "        labels = labels.to(device)\n",
        "        inputs = inputs.reshape(inputs.shape[0], 1, -1)\n",
        "\n",
        "        # zero the parameter gradients\n",
        "        optimizer.zero_grad()\n",
        "\n",
        "        # forward + backward + optimize\n",
        "        scores = net(inputs)\n",
        "        loss = criterion(scores.squeeze(), labels)\n",
        "\n",
        "        optimizer.zero_grad()\n",
        "        loss.backward()\n",
        "        optimizer.step()\n",
        "\n",
        "        # print statistics\n",
        "        # running_loss += loss.item()\n",
        "        if batch_idx % 1000 == 0:  # print every 200 mini-batches\n",
        "            now = datetime.now()\n",
        "            print('{:02d}:{:02d}:{:02d}\\t\\tepoch={:4d} / {:4d}\\t\\titer={:5d} / {:5d}\\t\\t\\tloss: {:7.5f}'.\n",
        "                  format(now.hour, now.minute, now.second, epoch, NUM_EPOCHS, batch_idx, len(trn_loader), loss))\n",
        "\n",
        "print('\\n\\tFinished Training\\n')\n",
        "# %%%%%%%%%%%%%%%%%%%%    end  Train Network       %%%%%%%%%%%%%%%%%%%%%%%%%%%%\n",
        "\n",
        "\n",
        "print('\\tSaving model ...\\n')\n",
        "\n",
        "# %%%%%%%%%%%%%%%%%%%%    begin save model   %%%%%%%%%%%%%%%%%%%%%%%%%%%%%%%\n",
        "f_name = \"classifier_{}_{}_{}.pth\".format(key_case, key_bal, key_aug)\n",
        "PATH = os.path.join(myPath_save, f_name)\n",
        "torch.save(net.state_dict(), PATH)\n",
        "# %%%%%%%%%%%%%%%%%%%%    end save model     %%%%%%%%%%%%%%%%%%%%%%%%%%%%%%%\n"
      ],
      "metadata": {
        "colab": {
          "base_uri": "https://localhost:8080/"
        },
        "id": "-JF-VPesYcM1",
        "outputId": "342dd815-5aac-4e50-f4e0-f258819773f2"
      },
      "execution_count": null,
      "outputs": [
        {
          "output_type": "stream",
          "name": "stdout",
          "text": [
            "22:46:40\t\tepoch=   0 /   10\t\titer=    0 /  4852\t\t\tloss: 2.69762\n",
            "22:48:44\t\tepoch=   0 /   10\t\titer= 1000 /  4852\t\t\tloss: 0.73200\n",
            "22:50:48\t\tepoch=   0 /   10\t\titer= 2000 /  4852\t\t\tloss: 1.08886\n",
            "22:52:53\t\tepoch=   0 /   10\t\titer= 3000 /  4852\t\t\tloss: 0.10722\n",
            "22:54:57\t\tepoch=   0 /   10\t\titer= 4000 /  4852\t\t\tloss: 0.17794\n",
            "22:56:43\t\tepoch=   1 /   10\t\titer=    0 /  4852\t\t\tloss: 0.59985\n",
            "22:58:47\t\tepoch=   1 /   10\t\titer= 1000 /  4852\t\t\tloss: 0.12410\n",
            "23:00:51\t\tepoch=   1 /   10\t\titer= 2000 /  4852\t\t\tloss: 0.00856\n",
            "23:02:55\t\tepoch=   1 /   10\t\titer= 3000 /  4852\t\t\tloss: 0.41486\n",
            "23:04:59\t\tepoch=   1 /   10\t\titer= 4000 /  4852\t\t\tloss: 0.00206\n",
            "23:06:45\t\tepoch=   2 /   10\t\titer=    0 /  4852\t\t\tloss: 0.00378\n",
            "23:08:48\t\tepoch=   2 /   10\t\titer= 1000 /  4852\t\t\tloss: 0.00583\n",
            "23:10:52\t\tepoch=   2 /   10\t\titer= 2000 /  4852\t\t\tloss: 0.01440\n",
            "23:12:56\t\tepoch=   2 /   10\t\titer= 3000 /  4852\t\t\tloss: 0.13967\n",
            "23:14:59\t\tepoch=   2 /   10\t\titer= 4000 /  4852\t\t\tloss: 0.06787\n",
            "23:16:44\t\tepoch=   3 /   10\t\titer=    0 /  4852\t\t\tloss: 0.01569\n",
            "23:18:49\t\tepoch=   3 /   10\t\titer= 1000 /  4852\t\t\tloss: 0.00350\n",
            "23:20:58\t\tepoch=   3 /   10\t\titer= 2000 /  4852\t\t\tloss: 0.01724\n",
            "23:23:02\t\tepoch=   3 /   10\t\titer= 3000 /  4852\t\t\tloss: 0.00011\n",
            "23:25:07\t\tepoch=   3 /   10\t\titer= 4000 /  4852\t\t\tloss: 0.14604\n",
            "23:26:52\t\tepoch=   4 /   10\t\titer=    0 /  4852\t\t\tloss: 0.06253\n",
            "23:28:55\t\tepoch=   4 /   10\t\titer= 1000 /  4852\t\t\tloss: 0.00795\n",
            "23:30:58\t\tepoch=   4 /   10\t\titer= 2000 /  4852\t\t\tloss: 0.03107\n",
            "23:33:05\t\tepoch=   4 /   10\t\titer= 3000 /  4852\t\t\tloss: 0.02514\n",
            "23:35:08\t\tepoch=   4 /   10\t\titer= 4000 /  4852\t\t\tloss: 0.00224\n",
            "23:37:01\t\tepoch=   5 /   10\t\titer=    0 /  4852\t\t\tloss: 0.04988\n",
            "23:39:05\t\tepoch=   5 /   10\t\titer= 1000 /  4852\t\t\tloss: 0.01482\n",
            "23:41:09\t\tepoch=   5 /   10\t\titer= 2000 /  4852\t\t\tloss: 0.00771\n",
            "23:43:13\t\tepoch=   5 /   10\t\titer= 3000 /  4852\t\t\tloss: 0.00158\n",
            "23:45:16\t\tepoch=   5 /   10\t\titer= 4000 /  4852\t\t\tloss: 0.00723\n",
            "23:47:01\t\tepoch=   6 /   10\t\titer=    0 /  4852\t\t\tloss: 0.01902\n",
            "23:49:04\t\tepoch=   6 /   10\t\titer= 1000 /  4852\t\t\tloss: 0.39149\n",
            "23:51:07\t\tepoch=   6 /   10\t\titer= 2000 /  4852\t\t\tloss: 0.12276\n",
            "23:53:10\t\tepoch=   6 /   10\t\titer= 3000 /  4852\t\t\tloss: 0.01238\n",
            "23:55:21\t\tepoch=   6 /   10\t\titer= 4000 /  4852\t\t\tloss: 0.00181\n",
            "23:57:07\t\tepoch=   7 /   10\t\titer=    0 /  4852\t\t\tloss: 0.00080\n",
            "23:59:11\t\tepoch=   7 /   10\t\titer= 1000 /  4852\t\t\tloss: 0.34080\n",
            "00:01:15\t\tepoch=   7 /   10\t\titer= 2000 /  4852\t\t\tloss: 0.02572\n",
            "00:03:17\t\tepoch=   7 /   10\t\titer= 3000 /  4852\t\t\tloss: 0.01595\n",
            "00:05:19\t\tepoch=   7 /   10\t\titer= 4000 /  4852\t\t\tloss: 0.12343\n",
            "00:07:04\t\tepoch=   8 /   10\t\titer=    0 /  4852\t\t\tloss: 0.05102\n",
            "00:09:07\t\tepoch=   8 /   10\t\titer= 1000 /  4852\t\t\tloss: 0.08780\n",
            "00:11:09\t\tepoch=   8 /   10\t\titer= 2000 /  4852\t\t\tloss: 0.08657\n",
            "00:13:11\t\tepoch=   8 /   10\t\titer= 3000 /  4852\t\t\tloss: 0.00062\n",
            "00:15:13\t\tepoch=   8 /   10\t\titer= 4000 /  4852\t\t\tloss: 0.02049\n",
            "00:16:58\t\tepoch=   9 /   10\t\titer=    0 /  4852\t\t\tloss: 0.42948\n",
            "00:19:00\t\tepoch=   9 /   10\t\titer= 1000 /  4852\t\t\tloss: 0.00308\n",
            "00:21:02\t\tepoch=   9 /   10\t\titer= 2000 /  4852\t\t\tloss: 0.31010\n",
            "00:23:05\t\tepoch=   9 /   10\t\titer= 3000 /  4852\t\t\tloss: 0.03658\n",
            "00:25:08\t\tepoch=   9 /   10\t\titer= 4000 /  4852\t\t\tloss: 0.00025\n",
            "\n",
            "\tFinished Training\n",
            "\n",
            "\tSaving model ...\n",
            "\n"
          ]
        }
      ]
    },
    {
      "cell_type": "code",
      "source": [
        "from sklearn.metrics import accuracy_score\n",
        "myPath = os.path.join(myPath_base, path)\n",
        "classifier_name = \"classifier_{}_{}_{}.pth\".format(key_case, key_bal, key_aug)\n",
        "net.load_state_dict(torch.load(os.path.join(myPath_save, classifier_name)))\n",
        "\n",
        "brk = 'here'\n",
        "\n",
        "# %%%%%%%%%%%%%%%%%%    print Classification Report to file      %%%%%%%%%%%%%%%%%%%%%%%%%%%%%\n",
        "trntst = ['tst']\n",
        "for key_trntst in trntst:\n",
        "    print('Preparing Classification Report: {}'.format(key_trntst))\n",
        "\n",
        "    y_scores = []\n",
        "    y_true = []\n",
        "    y_pred = []\n",
        "    exec('loader = {}_loader'.format(key_trntst))\n",
        "    for (inputs, labels) in tqdm(loader):\n",
        "        inputs = inputs.reshape(inputs.shape[0], 1, -1).to(device)\n",
        "        labels = labels.to(device)\n",
        "        temp = net(inputs)\n",
        "        output = temp.max(dim=1)\n",
        "\n",
        "        y_true.extend(labels.data.tolist())\n",
        "        y_pred.extend(output.indices.tolist())\n",
        "        y_scores.extend((F.softmax(temp, dim=1).tolist()))\n",
        "\n",
        "\n",
        "\n",
        "    # Calculate and print the accuracy with desired precision\n",
        "    accuracy = accuracy_score(y_true, y_pred)\n",
        "    accuracy_str = \"{:.5f}\".format(accuracy)\n",
        "    print(\"Accuracy: {}\".format(accuracy_str))\n",
        "\n"
      ],
      "metadata": {
        "colab": {
          "base_uri": "https://localhost:8080/"
        },
        "id": "em91uXUzzT-v",
        "outputId": "23e4b26b-d2e6-4bec-ca75-6ef35f7e1894"
      },
      "execution_count": null,
      "outputs": [
        {
          "output_type": "stream",
          "name": "stdout",
          "text": [
            "Preparing Classification Report: tst\n"
          ]
        },
        {
          "output_type": "stream",
          "name": "stderr",
          "text": [
            "100%|██████████| 538/538 [00:20<00:00, 26.28it/s]"
          ]
        },
        {
          "output_type": "stream",
          "name": "stdout",
          "text": [
            "Accuracy: 0.98838\n"
          ]
        },
        {
          "output_type": "stream",
          "name": "stderr",
          "text": [
            "\n"
          ]
        }
      ]
    },
    {
      "cell_type": "code",
      "source": [
        "\n",
        "# %%%%%%%%%%%%%%%%%%%%    load trained classifier     %%%%%%%%%%%%%%%%%%%%%\n",
        "path = \"gb_dm_case_{}\".format(key_case)\n",
        "myPath = os.path.join(myPath_base, path)\n",
        "classifier_name = \"classifier_{}_{}_{}.pth\".format(key_case, key_bal, key_aug)\n",
        "net.load_state_dict(torch.load(os.path.join(myPath_save, classifier_name)))\n",
        "\n",
        "brk = 'here'\n",
        "\n",
        "# %%%%%%%%%%%%%%%%%%    print Classification Report to file      %%%%%%%%%%%%%%%%%%%%%%%%%%%%%\n",
        "trntst = ['tst']\n",
        "for key_trntst in trntst:\n",
        "    print('Preparing Classification Report: {}'.format(key_trntst))\n",
        "    path = os.path.join(myPath_save, 'classification_report_{}_{}_{}_{}.txt'.\n",
        "                        format(key_trntst, key_case, key_bal, key_aug))\n",
        "    with open(path, 'w') as sys.stdout:\n",
        "        y_scores = []\n",
        "        y_true = []\n",
        "        y_pred = []\n",
        "        exec('loader = {}_loader'.format(key_trntst))\n",
        "        for (inputs, labels) in tqdm(loader):\n",
        "            inputs = inputs.reshape(inputs.shape[0], 1, -1).to(device)\n",
        "            labels = labels.to(device)\n",
        "            temp = net(inputs)\n",
        "            output = temp.max(dim=1)\n",
        "\n",
        "            y_true.extend(labels.data.tolist())\n",
        "            y_pred.extend(output.indices.tolist())\n",
        "            y_scores.extend((F.softmax(temp, dim=1).tolist()))\n",
        "\n",
        "        print(\"\\n\")\n",
        "        print(\"%\" * 20 + \"\\tClassification Report ({} Set, {}, {}, {})\\t\".\n",
        "              format(key_trntst, key_case, key_bal, key_aug) + \"%\" * 20)\n",
        "        print(\"Classes:                             {}\".format(classes2keep_folder))\n",
        "        print(\"Classifier Model:                    {}\".format(net._get_name()))\n",
        "        print(f\"number of epochs:                    {NUM_EPOCHS}\\n\")\n",
        "        print(\"Train set length:                    {}\".format(len(trn_set)))\n",
        "        print(\"Test set length:                     {}\".format(len(tst_set)))\n",
        "        print(\"Train set reduction length ratio:    {}\\t\".format(len_ratio_str))\n",
        "        print('\\nClassification Report:')\n",
        "        print(report(y_true, y_pred, target_names=classes2keep_folder))\n",
        "        print(\"\\nConfusion Matrix:\\n {}\".format(cf_matrix(y_true, y_pred)))\n",
        "        \"\"\"\n",
        "        precision, recall, thresholds = precision_recall_curve(y_true, np.asarray(y_scores)[:, 1])\n",
        "        #here auc function won't work as it works for binary classifier\n",
        "        pr_recall_auc_score = auc(recall, precision)\n",
        "        print('\\nPrecision-Recall AUC Score:        {:6.4f}'.format(pr_recall_auc_score))\n",
        "        rocauc_score = roc_auc_score(y_true, np.asarray(y_scores)[:, 1])\n",
        "        print('\\nROC AUC Score:                     {:6.4f}'.format(rocauc_score))\n",
        "\n",
        "        print_confusion_matrix(cf_matrix(y_true, y_pred), class_names=classes2keep_folder,\n",
        "                               fig_name=\"Conf. Matrix_{}_{}_{}_{}\".format(key_trntst, key_case, key_bal, key_aug))\n",
        "        plt.savefig(os.path.join(myPath_save, \"cfmx_{}_{}_{}_{}.png\".format(key_trntst, key_case, key_bal, key_aug)))\n",
        "        plt.close(\"all\")\n",
        "\n",
        "\n",
        "        plt.plot(precision, recall)\n",
        "        plt.title(\"Precision - Recall Curve ({}, {}, {}, {})\".format(key_trntst, key_case, key_bal, key_aug))\n",
        "        plt.grid()\n",
        "        plt.savefig(os.path.join(myPath_save, \"prec_recall_curve_{}_{}_{}_{}.png\".\n",
        "                                 format(key_trntst, key_case, key_bal, key_aug)))\n",
        "        \"\"\"\n",
        "        plt.close(\"all\")\n",
        "        sys.stdout = sys.__stdout__\n",
        "\n",
        "\n",
        "finish_time = datetime.now()\n",
        "print((\"\\n\\n\\n\" + \"finish time = {0:02d}:{1:02d}:{2:02.0f}\").format(\n",
        "    finish_time.hour, finish_time.minute, finish_time.second))\n",
        "\n",
        "laps = finish_time - start_time\n",
        "tot_sec = laps.total_seconds()\n",
        "h = int(tot_sec // 3600)\n",
        "m = int((tot_sec % 3600) // 60)\n",
        "s = int(tot_sec - (h * 3600 + m * 60))\n",
        "\n",
        "print(\"total elapsed time = {:02d}:{:2d}:{:2d}\".format(h, m, s))\n",
        "\n"
      ],
      "metadata": {
        "colab": {
          "base_uri": "https://localhost:8080/"
        },
        "id": "mOLX_KOq2gjX",
        "outputId": "103960d5-d444-4a1f-a912-4e7bb3ea73c2"
      },
      "execution_count": null,
      "outputs": [
        {
          "output_type": "stream",
          "name": "stderr",
          "text": [
            "  0%|          | 2/538 [00:00<00:31, 16.80it/s]"
          ]
        },
        {
          "output_type": "stream",
          "name": "stdout",
          "text": [
            "Preparing Classification Report: tst\n"
          ]
        },
        {
          "output_type": "stream",
          "name": "stderr",
          "text": [
            "100%|██████████| 538/538 [00:18<00:00, 28.53it/s]\n"
          ]
        }
      ]
    },
    {
      "cell_type": "markdown",
      "source": [
        "now testing on augmented dataset for result visualization"
      ],
      "metadata": {
        "id": "rRY7p8NxgtYD"
      }
    },
    {
      "cell_type": "code",
      "source": [
        "#splitting into training and testing\n",
        "import json\n",
        "import os\n",
        "import random\n",
        "import sys\n",
        "\n",
        "import matplotlib.pyplot as plt\n",
        "import numpy as np\n",
        "import torch\n",
        "import torch.optim as optim\n",
        "from datetime import datetime\n",
        "from torch.utils.data import DataLoader, TensorDataset\n",
        "import torch.nn.functional as F\n",
        "from sklearn.metrics import roc_auc_score, precision_recall_curve, auc\n",
        "import csv\n",
        "from torchvision import datasets\n",
        "import torchvision.transforms as transforms\n",
        "from collections import Counter\n",
        "import gc\n",
        "import copy\n",
        "\n",
        "from tqdm import tqdm\n",
        "\n",
        "from ekg_class import dicts\n",
        "import torch.nn as nn\n",
        "from models_classifier import EcgResNet34\n",
        "from sklearn.metrics import classification_report as report\n",
        "from sklearn.metrics import confusion_matrix as cf_matrix\n",
        "from utils import print_confusion_matrix\n",
        "\n",
        "os.environ['CUDA_LAUNCH_BLOCKING'] = \"1\"\n",
        "\n",
        "num2descr, letter2num, letter2descr, num2letter = dicts()\n",
        "start_time = datetime.now()\n",
        "\n",
        "print((\"\\n\" + \"*\" * 61 + \"\\n\\t\\t\\t\\t\\tstart time  {0:02d}:{1:02d}:{2:02.0f}\\n\" + \"*\" * 61).format(\n",
        "    start_time.hour, start_time.minute, start_time.second))\n",
        "\n",
        "drive = \"\"\n",
        "myPath_base = os.path.join(drive, \"\")\n",
        "path_aux = 'paper3_DM\\\\paper3_data'\n",
        "myPath_base = os.path.join(myPath_base, '')\n",
        "\n",
        "device = torch.device(\"cuda\" if torch.cuda.is_available() else \"cpu\")\n",
        "\n",
        "# Hyper-parameters etc.\n",
        "dry_run = False\n",
        "BATCH_SIZE = 16\n",
        "LEARNING_RATE = 1e-3\n",
        "NUM_CLASSES = 9\n",
        "tr_ts_ratio = 0.9     # \"training set / test set\" split ratio\n",
        "len_ratio = 1\n",
        "\n",
        "if dry_run:\n",
        "    NUM_EPOCHS = 1\n",
        "else:\n",
        "    NUM_EPOCHS = 10\n",
        "#classes2keep = ['/', 'A', 'L', 'N', 'R', 'f', 'j']\n",
        "#classes2keep_folder = ['P', 'A', 'L', 'N', 'R', 'f', 'j']\n",
        "\n",
        "classes2keep = ['N','/', 'A', 'L', 'R', 'f', 'j','F','a']\n",
        "classes2keep_folder = ['N','P', 'A', 'L','R', 'f', 'j','F','a']\n",
        "\n",
        "\n",
        "key_aug = \"aug\"\n",
        "#key_aug = \"notaug\";\n",
        "\n",
        "key_bal = 'balanced'\n",
        "#key_bal = 'imbalanced';\n",
        "\n",
        "# key_case = 'rl'\n",
        "# key_case = \"02\"\n",
        "key_case = \"wgan\"\n",
        "\n",
        "len_ratio = 1                   # shorter train sets\n",
        "#len_ratio = 1                  # shorter train sets\n",
        "num_samples = 8000\n",
        "tst_len = 1000\n",
        "print('\\ncase: {}, {}, {}\\n'.format(key_case, key_bal, key_aug))\n",
        "# num_N_samples = int(len_ratio*num_samples)\n",
        "\n",
        "if '.' in str(len_ratio):\n",
        "    len_ratio_str = str(len_ratio).replace('.', '')\n",
        "else:\n",
        "    len_ratio_str = str(len_ratio)\n",
        "\n",
        "# %%%%%%%%%%%%%%%%%%%%%%%%%%%%%%%%%%%%%%%%%%%%%%%%%%%%%%%%%%%%%%%%%%%%%%%%%%%%%%%%%%\n",
        "path = \"gb_dm_case_{}\".format(key_case)\n",
        "myPath_save = os.path.join(myPath_base, path)\n",
        "os.makedirs(myPath_save, exist_ok=True)\n",
        "\n",
        "brk = 'here'\n",
        "\n",
        "#%%%%%%%%%%%%%%%%%%%%%%%%%%%%%%%%%   begin: From whole database select training and testing set   %%%%%%%%%%%%%%%%%%\n",
        "d_set = \"MIT_BIH/tesing\"\n",
        "myPath_classifier = os.path.join(myPath_base, \"PycharmProjects\\\\paper2_gen_data\\\\\", d_set,\"classifier_wgan_gp_cl_{}_{}_{}\".format(key_bal,classes2keep_folder,len_ratio))\n",
        "os.makedirs(myPath_classifier, exist_ok=True)\n",
        "\n",
        "myPath_save = os.path.join(myPath_base, \"PycharmProjects\\\\paper2_gen_data\\\\\", d_set,\"classifier_wgan_gp_finalcl_{}_{}_{}\".format(key_bal,classes2keep_folder,len_ratio))\n",
        "os.makedirs(myPath_save, exist_ok=True)\n",
        "\n",
        "\n",
        "# %%%%%%%%%%%%%%%%       begin MIT-BIH Dataset      %%%%%%%%%%%%%%%%%%%%%%%%%%%%\n",
        "\n",
        "with open(os.path.join(myPath_base, \"record_X_y_adapt_win_bef075_aft075_Normalized.json\"), \"r\") as f:\n",
        "    data = json.load(f)\n",
        "\n",
        "stats_all_classes = Counter(np.asarray(data, dtype=object)[:, 2])\n",
        "\n",
        "classes2gb = ['P', 'A', 'L','R', 'f', 'j','F','a']\n",
        "classes2gb_count=['/', 'A', 'L','R', 'f', 'j','F','a']\n",
        "\n",
        "class_counts = {class_label: 0 for class_label in classes2gb_count}\n",
        "\n",
        "# create dictionary of data to be kept\n",
        "vals = []\n",
        "for idx in range(len(classes2keep)):\n",
        "    vals.append([])\n",
        "\n",
        "data2keep_dict = dict(zip(classes2keep, vals))\n",
        "data_train_dict = dict(zip(classes2keep_folder, vals))\n",
        "data_test_dict = dict(zip(classes2keep_folder, vals))\n",
        "count_N = 0\n",
        "for item in data:\n",
        "    if item[2] == 'N'  and count_N < 10000:  # Add condition to limit 'N' data to 10000\n",
        "        data2keep_dict[item[2]].append(item[1])\n",
        "        count_N += 1\n",
        "    elif item[2]!='N' and item[2] in classes2keep:\n",
        "        data2keep_dict[item[2]].append(item[1])\n",
        "        class_counts[item[2]] += 1\n",
        "del data\n",
        "\n",
        "if '/' in classes2keep:\n",
        "    temp = data2keep_dict['/']\n",
        "    data2keep_dict.pop('/')\n",
        "    data2keep_dict['P'] = temp\n",
        "\n",
        "    temp = class_counts['/']\n",
        "    class_counts.pop('/')\n",
        "    class_counts['P'] = temp\n",
        "\n",
        "\n",
        "\n",
        "max_items_per_class= 10000\n",
        "with open(os.path.join(myPath_base, \"gb_together.json\"), \"r\") as f:\n",
        "    data_gb = json.load(f)\n",
        "\n",
        "\n",
        "\n",
        "\n",
        "for item in data_gb:\n",
        "    if item[1] in classes2gb and class_counts[item[1]] < max_items_per_class:\n",
        "        data2keep_dict[item[1]].append(item[0])\n",
        "        class_counts[item[1]] += 1\n",
        "\n",
        "del data_gb\n",
        "\n",
        "\n",
        "\n",
        "# randomly splitting the dataset into train and test sets\n",
        "for key in data2keep_dict.keys():\n",
        "    val_len = len(data2keep_dict[key])\n",
        "    idx_train = torch.randperm(val_len)[:int(tr_ts_ratio * val_len)]\n",
        "    idx_test = torch.randperm(val_len)[int(tr_ts_ratio * val_len)+1:]\n",
        "    data_train_dict[key] = [data2keep_dict[key][idx] for idx in idx_train]\n",
        "    data_test_dict[key] = [data2keep_dict[key][idx] for idx in idx_test]\n",
        "'''\n",
        "if '/' in classes2keep:\n",
        "    temp = data2keep_dict['/']\n",
        "    data2keep_dict.pop('/')\n",
        "    data2keep_dict['P'] = temp\n",
        "\n",
        "    temp = data_train_dict['/']\n",
        "    data_train_dict.pop('/')\n",
        "    data_train_dict['P'] = temp\n",
        "\n",
        "    temp = data_test_dict['/']\n",
        "    data_test_dict.pop('/')\n",
        "    data_test_dict['P'] = temp\n",
        "\n",
        "'''\n",
        "# create X, y for train and test sets\n",
        "X_train = []\n",
        "y_train = []\n",
        "for key in data_train_dict.keys():\n",
        "    X_train.extend(data_train_dict[key])\n",
        "    idx = [classes2keep_folder.index(key)] * len(data_train_dict[key])\n",
        "    y_train.extend(idx)\n",
        "\n",
        "X_test = []\n",
        "y_test = []\n",
        "for key in data_test_dict.keys():\n",
        "    X_test.extend(data_test_dict[key])\n",
        "    idx = [classes2keep_folder.index(key)] * len(data_test_dict[key])\n",
        "    y_test.extend(idx)\n",
        "\n",
        "y_test_stat = Counter(y_test)\n",
        "y_train_stat = Counter(y_train)\n",
        "\n",
        "print(\"train: {}\".format(y_train_stat))\n",
        "print(\"test: {}\".format(y_test_stat))\n",
        "\n",
        "\"\"\"\n",
        "a = 0\n",
        "with open(os.path.join(myPath_save, \"X_train.json\"), \"w\") as f:\n",
        "    json.dump(X_train, f)\n",
        "with open(os.path.join(myPath_save, \"y_train.json\"), \"w\") as f:\n",
        "    json.dump(y_train, f)\n",
        "with open(os.path.join(myPath_save, \"X_test.json\"), \"w\") as f:\n",
        "    json.dump(X_test, f)\n",
        "with open(os.path.join(myPath_save, \"y_test.json\"), \"w\") as f:\n",
        "    json.dump(y_test, f)\n",
        "\n",
        "a=0\n",
        "\"\"\""
      ],
      "metadata": {
        "id": "ShiNKx0_8eKC",
        "colab": {
          "base_uri": "https://localhost:8080/",
          "height": 281
        },
        "outputId": "5ddaecbd-da78-4a58-b137-2642a79f2c5a"
      },
      "execution_count": null,
      "outputs": [
        {
          "output_type": "stream",
          "name": "stdout",
          "text": [
            "\n",
            "*************************************************************\n",
            "\t\t\t\t\tstart time  22:53:57\n",
            "*************************************************************\n",
            "\n",
            "case: wgan, balanced, aug\n",
            "\n",
            "train: Counter({0: 9000, 1: 9000, 2: 9000, 3: 9000, 4: 9000, 5: 9000, 6: 9000, 7: 9000, 8: 9000})\n",
            "test: Counter({0: 999, 1: 999, 2: 999, 3: 999, 4: 999, 5: 999, 6: 999, 7: 999, 8: 999})\n"
          ]
        },
        {
          "output_type": "execute_result",
          "data": {
            "text/plain": [
              "'\\na = 0\\nwith open(os.path.join(myPath_save, \"X_train.json\"), \"w\") as f:\\n    json.dump(X_train, f)\\nwith open(os.path.join(myPath_save, \"y_train.json\"), \"w\") as f:\\n    json.dump(y_train, f)\\nwith open(os.path.join(myPath_save, \"X_test.json\"), \"w\") as f:\\n    json.dump(X_test, f)\\nwith open(os.path.join(myPath_save, \"y_test.json\"), \"w\") as f:\\n    json.dump(y_test, f)\\n\\na=0\\n'"
            ],
            "application/vnd.google.colaboratory.intrinsic+json": {
              "type": "string"
            }
          },
          "metadata": {},
          "execution_count": 5
        }
      ]
    },
    {
      "cell_type": "code",
      "source": [
        "trn_set = TensorDataset(torch.tensor(X_train), torch.tensor(y_train))\n",
        "tst_set = TensorDataset(torch.tensor(X_test), torch.tensor(y_test))\n",
        "trn_loader = DataLoader(trn_set, batch_size=BATCH_SIZE, shuffle=True, drop_last=True)\n",
        "tst_loader = DataLoader(tst_set, batch_size=BATCH_SIZE, shuffle=True, drop_last=True)\n",
        "myPath = os.path.join(myPath_base, path)\n",
        "classifier_name = \"classifier_{}_{}_{}.pth\".format(key_case, key_bal, key_aug)\n",
        "net = EcgResNet34(num_classes=NUM_CLASSES).to(device)\n",
        "net.load_state_dict(torch.load(os.path.join(myPath_classifier, classifier_name)))\n",
        "\n",
        "brk = 'here'\n",
        "\n",
        "# %%%%%%%%%%%%%%%%%%    print Classification Report to file      %%%%%%%%%%%%%%%%%%%%%%%%%%%%%\n",
        "trntst = ['tst']\n",
        "for key_trntst in trntst:\n",
        "    print('Preparing Classification Report: {}'.format(key_trntst))\n",
        "    path = os.path.join(myPath_save, 'classification_report_testing_{}_{}_{}_{}.txt'.\n",
        "                        format(key_trntst, key_case, key_bal, key_aug))\n",
        "    with open(path, 'w') as sys.stdout:\n",
        "        y_scores = []\n",
        "        y_true = []\n",
        "        y_pred = []\n",
        "        exec('loader = {}_loader'.format(key_trntst))\n",
        "        for (inputs, labels) in tqdm(loader):\n",
        "            inputs = inputs.reshape(inputs.shape[0], 1, -1).to(device)\n",
        "            labels = labels.to(device)\n",
        "            temp = net(inputs)\n",
        "            output = temp.max(dim=1)\n",
        "\n",
        "            y_true.extend(labels.data.tolist())\n",
        "            y_pred.extend(output.indices.tolist())\n",
        "            y_scores.extend((F.softmax(temp, dim=1).tolist()))\n",
        "\n",
        "        print(\"\\n\")\n",
        "        print(\"%\" * 20 + \"\\tClassification Report ({} Set, {}, {}, {})\\t\".\n",
        "              format(key_trntst, key_case, key_bal, key_aug) + \"%\" * 20)\n",
        "        print(\"Classes:                             {}\".format(classes2keep_folder))\n",
        "        print(\"Classifier Model:                    {}\".format(net._get_name()))\n",
        "        print(f\"number of epochs:                    {NUM_EPOCHS}\\n\")\n",
        "        print(\"Train set length:                    {}\".format(len(trn_set)))\n",
        "        print(\"Test set length:                     {}\".format(len(tst_set)))\n",
        "        print(\"Train set reduction length ratio:    {}\\t\".format(len_ratio_str))\n",
        "        print('\\nClassification Report:')\n",
        "        print(report(y_true, y_pred, target_names=classes2keep_folder))\n",
        "        print(\"\\nConfusion Matrix:\\n {}\".format(cf_matrix(y_true, y_pred)))\n",
        "        \"\"\"\n",
        "        precision, recall, thresholds = precision_recall_curve(y_true, np.asarray(y_scores)[:, 1])\n",
        "        #here auc function won't work as it works for binary classifier\n",
        "        pr_recall_auc_score = auc(recall, precision)\n",
        "        print('\\nPrecision-Recall AUC Score:        {:6.4f}'.format(pr_recall_auc_score))\n",
        "        rocauc_score = roc_auc_score(y_true, np.asarray(y_scores)[:, 1])\n",
        "        print('\\nROC AUC Score:                     {:6.4f}'.format(rocauc_score))\n",
        "\n",
        "        print_confusion_matrix(cf_matrix(y_true, y_pred), class_names=classes2keep_folder,\n",
        "                               fig_name=\"Conf. Matrix_{}_{}_{}_{}\".format(key_trntst, key_case, key_bal, key_aug))\n",
        "        plt.savefig(os.path.join(myPath_save, \"cfmx_{}_{}_{}_{}.png\".format(key_trntst, key_case, key_bal, key_aug)))\n",
        "        plt.close(\"all\")\n",
        "\n",
        "\n",
        "        plt.plot(precision, recall)\n",
        "        plt.title(\"Precision - Recall Curve ({}, {}, {}, {})\".format(key_trntst, key_case, key_bal, key_aug))\n",
        "        plt.grid()\n",
        "        plt.savefig(os.path.join(myPath_save, \"prec_recall_curve_{}_{}_{}_{}.png\".\n",
        "                                 format(key_trntst, key_case, key_bal, key_aug)))\n",
        "        \"\"\"\n",
        "        plt.close(\"all\")\n",
        "        sys.stdout = sys.__stdout__\n",
        "\n",
        "\n",
        "finish_time = datetime.now()\n",
        "print((\"\\n\\n\\n\" + \"finish time = {0:02d}:{1:02d}:{2:02.0f}\").format(\n",
        "    finish_time.hour, finish_time.minute, finish_time.second))\n",
        "\n",
        "laps = finish_time - start_time\n",
        "tot_sec = laps.total_seconds()\n",
        "h = int(tot_sec // 3600)\n",
        "m = int((tot_sec % 3600) // 60)\n",
        "s = int(tot_sec - (h * 3600 + m * 60))\n",
        "\n",
        "print(\"total elapsed time = {:02d}:{:2d}:{:2d}\".format(h, m, s))\n",
        "\n"
      ],
      "metadata": {
        "id": "0hVvf8efCrYw"
      },
      "execution_count": null,
      "outputs": []
    },
    {
      "cell_type": "code",
      "source": [
        "from sklearn.metrics import accuracy_score\n",
        "myPath = os.path.join(myPath_base, path)\n",
        "classifier_name = \"classifier_{}_{}_{}.pth\".format(key_case, key_bal, key_aug)\n",
        "net.load_state_dict(torch.load(os.path.join(myPath_classifier, classifier_name)))\n",
        "\n",
        "brk = 'here'\n",
        "\n",
        "# %%%%%%%%%%%%%%%%%%    print Classification Report to file      %%%%%%%%%%%%%%%%%%%%%%%%%%%%%\n",
        "trntst = ['tst']\n",
        "for key_trntst in trntst:\n",
        "    print('Preparing Classification Report: {}'.format(key_trntst))\n",
        "\n",
        "    y_scores = []\n",
        "    y_true = []\n",
        "    y_pred = []\n",
        "    exec('loader = {}_loader'.format(key_trntst))\n",
        "    for (inputs, labels) in tqdm(loader):\n",
        "        inputs = inputs.reshape(inputs.shape[0], 1, -1).to(device)\n",
        "        labels = labels.to(device)\n",
        "        temp = net(inputs)\n",
        "        output = temp.max(dim=1)\n",
        "\n",
        "        y_true.extend(labels.data.tolist())\n",
        "        y_pred.extend(output.indices.tolist())\n",
        "        y_scores.extend((F.softmax(temp, dim=1).tolist()))\n",
        "\n",
        "\n",
        "\n",
        "    # Calculate and print the accuracy with desired precision\n",
        "    accuracy = accuracy_score(y_true, y_pred)\n",
        "    accuracy_str = \"{:.5f}\".format(accuracy)\n",
        "    print(\"Accuracy: {}\".format(accuracy_str))\n",
        "\n"
      ],
      "metadata": {
        "colab": {
          "base_uri": "https://localhost:8080/"
        },
        "id": "n-tQeQy8oy5G",
        "outputId": "d578661e-1ff2-4716-93db-c51c60b3c4f4"
      },
      "execution_count": null,
      "outputs": [
        {
          "output_type": "stream",
          "name": "stderr",
          "text": [
            "100%|██████████| 561/561 [00:18<00:00, 30.39it/s]\n"
          ]
        }
      ]
    },
    {
      "cell_type": "code",
      "source": [
        "print(\"Accuracy: {}\".format(accuracy_str))"
      ],
      "metadata": {
        "id": "iZYz92K9pIC8"
      },
      "execution_count": null,
      "outputs": []
    },
    {
      "cell_type": "code",
      "source": [
        "import numpy as np\n",
        "import itertools\n",
        "import matplotlib.pyplot as plt\n",
        "from sklearn.metrics import confusion_matrix, precision_recall_curve\n",
        "from sklearn.utils.multiclass import unique_labels\n",
        "from sklearn.metrics import accuracy_score\n",
        "\n",
        "myPath = os.path.join(myPath_base, path)\n",
        "classifier_name = \"classifier_{}_{}_{}.pth\".format(key_case, key_bal, key_aug)\n",
        "net.load_state_dict(torch.load(os.path.join(myPath_classifier, classifier_name)))\n",
        "\n",
        "brk = 'here'\n",
        "\n",
        "# %%%%%%%%%%%%%%%%%%    print Classification Report to file      %%%%%%%%%%%%%%%%%%%%%%%%%%%%%\n",
        "trntst = ['tst']\n",
        "for key_trntst in trntst:\n",
        "    print('Preparing Classification Report: {}'.format(key_trntst))\n",
        "\n",
        "    y_scores = []\n",
        "    y_true = []\n",
        "    y_pred = []\n",
        "    exec('loader = {}_loader'.format(key_trntst))\n",
        "    for (inputs, labels) in tqdm(loader):\n",
        "        inputs = inputs.reshape(inputs.shape[0], 1, -1).to(device)\n",
        "        labels = labels.to(device)\n",
        "        temp = net(inputs)\n",
        "        output = temp.max(dim=1)\n",
        "\n",
        "        y_true.extend(labels.data.tolist())\n",
        "        y_pred.extend(output.indices.tolist())\n",
        "        y_scores.extend((F.softmax(temp, dim=1).tolist()))\n",
        "# ...\n",
        "\n",
        "# Calculate and print the accuracy with desired precision\n",
        "accuracy = accuracy_score(y_true, y_pred)\n",
        "accuracy_str = \"{:.5f}\".format(accuracy)\n",
        "print(\"Accuracy: {}\".format(accuracy_str))\n",
        "\n",
        "# Calculate confusion matrix\n",
        "cm = confusion_matrix(y_true, y_pred)\n",
        "classes = classes2keep_folder\n",
        "\n",
        "# Plot confusion matrix\n",
        "plt.figure()\n",
        "plt.imshow(cm, interpolation='nearest', cmap=plt.cm.Blues)\n",
        "plt.title(\"Confusion Matrix\")\n",
        "plt.colorbar()\n",
        "tick_marks = np.arange(len(classes))\n",
        "plt.xticks(tick_marks, classes, rotation=45)\n",
        "plt.yticks(tick_marks, classes)\n",
        "thresh = cm.max() / 2.\n",
        "for i, j in itertools.product(range(cm.shape[0]), range(cm.shape[1])):\n",
        "    plt.text(j, i, format(cm[i, j], 'd'), horizontalalignment=\"center\",\n",
        "             color=\"white\" if cm[i, j] > thresh else \"black\")\n",
        "plt.tight_layout()\n",
        "plt.ylabel('True label')\n",
        "plt.xlabel('Predicted label')\n",
        "\n",
        "# Calculate precision and recall\n",
        "y_scores = np.array(y_scores)\n",
        "precision, recall, _ = precision_recall_curve(y_true, y_scores[:, 1], pos_label=1)\n",
        "\n",
        "# Plot precision-recall curve\n",
        "plt.figure()\n",
        "plt.step(recall, precision, color='b', alpha=0.2, where='post')\n",
        "plt.fill_between(recall, precision, step='post', alpha=0.2, color='b')\n",
        "plt.xlabel('Recall')\n",
        "plt.ylabel('Precision')\n",
        "plt.ylim([0.0, 1.05])\n",
        "plt.xlim([0.0, 1.0])\n",
        "plt.title('Precision-Recall Curve')\n",
        "\n",
        "plt.show()\n"
      ],
      "metadata": {
        "colab": {
          "base_uri": "https://localhost:8080/",
          "height": 978
        },
        "id": "gLPeNC2pr1c2",
        "outputId": "d5a4d5b1-cd20-44aa-9cd5-2a1915aea226"
      },
      "execution_count": null,
      "outputs": [
        {
          "output_type": "stream",
          "name": "stderr",
          "text": [
            "100%|██████████| 561/561 [00:19<00:00, 28.96it/s]\n"
          ]
        },
        {
          "output_type": "display_data",
          "data": {
            "text/plain": [
              "<Figure size 640x480 with 2 Axes>"
            ],
            "image/png": "[encoded data removed]"
          },
          "metadata": {}
        },
        {
          "output_type": "display_data",
          "data": {
            "text/plain": [
              "<Figure size 640x480 with 1 Axes>"
            ],
            "image/png": "[encoded data removed]"
          },
          "metadata": {}
        }
      ]
    },
    {
      "cell_type": "code",
      "source": [
        "# accuracy = 0.98808 ... dont know why is this not printing\n",
        "display( accuracy_str)"
      ],
      "metadata": {
        "colab": {
          "base_uri": "https://localhost:8080/",
          "height": 35
        },
        "id": "Yc7RUx8_zSma",
        "outputId": "40a96a36-3377-43c8-8fbb-f1ef2d8547a8"
      },
      "execution_count": null,
      "outputs": [
        {
          "output_type": "display_data",
          "data": {
            "text/plain": [
              "'0.98808'"
            ],
            "application/vnd.google.colaboratory.intrinsic+json": {
              "type": "string"
            }
          },
          "metadata": {}
        }
      ]
    },
    {
      "cell_type": "code",
      "source": [
        "# Imbalanced classification\n",
        "\n",
        "import json\n",
        "import os\n",
        "import random\n",
        "import sys\n",
        "\n",
        "import matplotlib.pyplot as plt\n",
        "import numpy as np\n",
        "import torch\n",
        "import torch.optim as optim\n",
        "from datetime import datetime\n",
        "from torch.utils.data import DataLoader, TensorDataset\n",
        "import torch.nn.functional as F\n",
        "from sklearn.metrics import roc_auc_score, precision_recall_curve, auc\n",
        "import csv\n",
        "from torchvision import datasets\n",
        "import torchvision.transforms as transforms\n",
        "from collections import Counter\n",
        "import gc\n",
        "import copy\n",
        "\n",
        "from tqdm import tqdm\n",
        "\n",
        "from ekg_class import dicts\n",
        "import torch.nn as nn\n",
        "from models_classifier import EcgResNet34\n",
        "from sklearn.metrics import classification_report as report\n",
        "from sklearn.metrics import confusion_matrix as cf_matrix\n",
        "from utils import print_confusion_matrix\n",
        "\n",
        "os.environ['CUDA_LAUNCH_BLOCKING'] = \"1\"\n",
        "\n",
        "num2descr, letter2num, letter2descr, num2letter = dicts()\n",
        "start_time = datetime.now()\n",
        "\n",
        "print((\"\\n\" + \"*\" * 61 + \"\\n\\t\\t\\t\\t\\tstart time  {0:02d}:{1:02d}:{2:02.0f}\\n\" + \"*\" * 61).format(\n",
        "    start_time.hour, start_time.minute, start_time.second))\n",
        "\n",
        "drive = \"\"\n",
        "myPath_base = os.path.join(drive, \"\")\n",
        "path_aux = 'paper3_DM\\\\paper3_data'\n",
        "myPath_base = os.path.join(myPath_base, '')\n",
        "\n",
        "device = torch.device(\"cuda\" if torch.cuda.is_available() else \"cpu\")\n",
        "\n",
        "# Hyper-parameters etc.\n",
        "dry_run = False\n",
        "BATCH_SIZE = 16\n",
        "LEARNING_RATE = 1e-3\n",
        "NUM_CLASSES = 9\n",
        "tr_ts_ratio = 0.9     # \"training set / test set\" split ratio\n",
        "len_ratio = 1\n",
        "\n",
        "if dry_run:\n",
        "    NUM_EPOCHS = 1\n",
        "else:\n",
        "    NUM_EPOCHS = 10\n",
        "#classes2keep = ['/', 'A', 'L', 'N', 'R', 'f', 'j']\n",
        "#classes2keep_folder = ['P', 'A', 'L', 'N', 'R', 'f', 'j']\n",
        "\n",
        "classes2keep = ['N','/', 'A', 'L', 'R', 'f', 'j','F','a']\n",
        "classes2keep_folder = ['N','P', 'A', 'L','R', 'f', 'j','F','a']\n",
        "\n",
        "\n",
        "#key_aug = \"aug\"\n",
        "key_aug = \"notaug\";\n",
        "\n",
        "#key_bal = 'balanced'\n",
        "key_bal = 'imbalanced';\n",
        "\n",
        "# key_case = 'rl'\n",
        "# key_case = \"02\"\n",
        "key_case = \"wgan\"\n",
        "\n",
        "len_ratio = 0.5                   # shorter train sets\n",
        "#len_ratio = 1                  # shorter train sets\n",
        "num_samples = 8000\n",
        "tst_len = 1000\n",
        "print('\\ncase: {}, {}, {}\\n'.format(key_case, key_bal, key_aug))\n",
        "# num_N_samples = int(len_ratio*num_samples)\n",
        "\n",
        "if '.' in str(len_ratio):\n",
        "    len_ratio_str = str(len_ratio).replace('.', '')\n",
        "else:\n",
        "    len_ratio_str = str(len_ratio)\n",
        "\n",
        "# %%%%%%%%%%%%%%%%%%%%%%%%%%%%%%%%%%%%%%%%%%%%%%%%%%%%%%%%%%%%%%%%%%%%%%%%%%%%%%%%%%\n",
        "path = \"gb_dm_case_{}\".format(key_case)\n",
        "myPath_save = os.path.join(myPath_base, path)\n",
        "os.makedirs(myPath_save, exist_ok=True)\n",
        "\n",
        "brk = 'here'\n",
        "\n",
        "#%%%%%%%%%%%%%%%%%%%%%%%%%%%%%%%%%   begin: From whole database select training and testing set   %%%%%%%%%%%%%%%%%%\n",
        "\n",
        "\n",
        "d_set = \"MIT_BIH/tesing\"\n",
        "myPath_save = os.path.join(myPath_base, \"PycharmProjects\\\\paper2_gen_data\\\\\", d_set,\"classifier_wgan_gp_cl_{}_{}\".format(classes2keep_folder,len_ratio))\n",
        "os.makedirs(myPath_save, exist_ok=True)\n",
        "\n",
        "\n",
        "# %%%%%%%%%%%%%%%%       begin MIT-BIH Dataset      %%%%%%%%%%%%%%%%%%%%%%%%%%%%\n",
        "\n",
        "with open(os.path.join(myPath_base, \"record_X_y_adapt_win_bef075_aft075_Normalized.json\"), \"r\") as f:\n",
        "    data = json.load(f)\n",
        "\n",
        "stats_all_classes = Counter(np.asarray(data, dtype=object)[:, 2])\n",
        "\n",
        "# create dictionary of data to be kept\n",
        "vals = []\n",
        "for idx in range(len(classes2keep)):\n",
        "    vals.append([])\n",
        "\n",
        "data2keep_dict = dict(zip(classes2keep, vals))\n",
        "data_train_dict = copy.deepcopy(data2keep_dict)\n",
        "data_test_dict = copy.deepcopy(data2keep_dict)\n",
        "\n",
        "for item in data:\n",
        "    if item[2] in classes2keep:\n",
        "        data2keep_dict[item[2]].append(item[1])\n",
        "del data\n",
        "\n",
        "# randomly splitting the dataset into train and test sets\n",
        "for key in data2keep_dict.keys():\n",
        "    val_len = len(data2keep_dict[key])\n",
        "    idx_train = torch.randperm(val_len)[:int(tr_ts_ratio * val_len)]\n",
        "    idx_test = torch.randperm(val_len)[int(tr_ts_ratio * val_len)+1:]\n",
        "    data_train_dict[key] = [data2keep_dict[key][idx] for idx in idx_train]\n",
        "    data_test_dict[key] = [data2keep_dict[key][idx] for idx in idx_test]\n",
        "\n",
        "if '/' in classes2keep:\n",
        "    temp = data2keep_dict['/']\n",
        "    data2keep_dict.pop('/')\n",
        "    data2keep_dict['P'] = temp\n",
        "\n",
        "    temp = data_train_dict['/']\n",
        "    data_train_dict.pop('/')\n",
        "    data_train_dict['P'] = temp\n",
        "\n",
        "    temp = data_test_dict['/']\n",
        "    data_test_dict.pop('/')\n",
        "    data_test_dict['P'] = temp\n",
        "\n",
        "\n",
        "# create X, y for train and test sets\n",
        "X_train = []\n",
        "y_train = []\n",
        "for key in data_train_dict.keys():\n",
        "    X_train.extend(data_train_dict[key])\n",
        "    idx = [classes2keep_folder.index(key)] * len(data_train_dict[key])\n",
        "    y_train.extend(idx)\n",
        "\n",
        "X_test = []\n",
        "y_test = []\n",
        "for key in data_test_dict.keys():\n",
        "    X_test.extend(data_test_dict[key])\n",
        "    idx = [classes2keep_folder.index(key)] * len(data_test_dict[key])\n",
        "    y_test.extend(idx)\n",
        "\n",
        "y_test_stat = Counter(y_test)\n",
        "y_train_stat = Counter(y_train)\n",
        "\n",
        "print(\"train: {}\".format(y_train_stat))\n",
        "print(\"test: {}\".format(y_test_stat))\n",
        "\n",
        "a = 0\n",
        "with open(os.path.join(myPath_save, \"X_train.json\"), \"w\") as f:\n",
        "    json.dump(X_train, f)\n",
        "with open(os.path.join(myPath_save, \"y_train.json\"), \"w\") as f:\n",
        "    json.dump(y_train, f)\n",
        "with open(os.path.join(myPath_save, \"X_test.json\"), \"w\") as f:\n",
        "    json.dump(X_test, f)\n",
        "with open(os.path.join(myPath_save, \"y_test.json\"), \"w\") as f:\n",
        "    json.dump(y_test, f)\n",
        "\n",
        "a=0\n",
        "\n",
        "\n",
        "\n"
      ],
      "metadata": {
        "id": "h2qubLE-r1ur"
      },
      "execution_count": null,
      "outputs": []
    },
    {
      "cell_type": "code",
      "source": [
        "import numpy as np\n",
        "import itertools\n",
        "import matplotlib.pyplot as plt\n",
        "from sklearn.metrics import confusion_matrix, precision_recall_curve\n",
        "from sklearn.utils.multiclass import unique_labels\n",
        "from sklearn.metrics import accuracy_score\n",
        "\n",
        "trn_set = TensorDataset(torch.tensor(X_train), torch.tensor(y_train))\n",
        "tst_set = TensorDataset(torch.tensor(X_test), torch.tensor(y_test))\n",
        "trn_loader = DataLoader(trn_set, batch_size=BATCH_SIZE, shuffle=True, drop_last=True)\n",
        "tst_loader = DataLoader(tst_set, batch_size=BATCH_SIZE, shuffle=True, drop_last=True)\n",
        "\n",
        "myPath = os.path.join(myPath_base, path)\n",
        "classifier_name = \"classifier_{}_{}_{}.pth\".format(key_case, key_bal, key_aug)\n",
        "net.load_state_dict(torch.load(os.path.join(myPath_save, classifier_name)))\n",
        "\n",
        "brk = 'here'\n",
        "\n",
        "# %%%%%%%%%%%%%%%%%%    print Classification Report to file      %%%%%%%%%%%%%%%%%%%%%%%%%%%%%\n",
        "trntst = ['tst']\n",
        "for key_trntst in trntst:\n",
        "    print('Preparing Classification Report: {}'.format(key_trntst))\n",
        "\n",
        "    y_scores = []\n",
        "    y_true = []\n",
        "    y_pred = []\n",
        "    exec('loader = {}_loader'.format(key_trntst))\n",
        "    for (inputs, labels) in tqdm(loader):\n",
        "        inputs = inputs.reshape(inputs.shape[0], 1, -1).to(device)\n",
        "        labels = labels.to(device)\n",
        "        temp = net(inputs)\n",
        "        output = temp.max(dim=1)\n",
        "\n",
        "        y_true.extend(labels.data.tolist())\n",
        "        y_pred.extend(output.indices.tolist())\n",
        "        y_scores.extend((F.softmax(temp, dim=1).tolist()))\n",
        "# ...\n",
        "\n",
        "# Calculate and print the accuracy with desired precision\n",
        "accuracy2 = accuracy_score(y_true, y_pred)\n",
        "accuracy_str2 = \"{:.5f}\".format(accuracy2)\n",
        "print(\"Accuracy: {}\".format(accuracy_str2))\n",
        "#0.97704\n",
        "\n",
        "# Calculate confusion matrix\n",
        "cm = confusion_matrix(y_true, y_pred)\n",
        "classes = classes2keep_folder\n",
        "\n",
        "# Plot confusion matrix\n",
        "plt.figure()\n",
        "plt.imshow(cm, interpolation='nearest', cmap=plt.cm.Blues)\n",
        "plt.title(\"Confusion Matrix\")\n",
        "plt.colorbar()\n",
        "tick_marks = np.arange(len(classes))\n",
        "plt.xticks(tick_marks, classes, rotation=45)\n",
        "plt.yticks(tick_marks, classes)\n",
        "thresh = cm.max() / 2.\n",
        "for i, j in itertools.product(range(cm.shape[0]), range(cm.shape[1])):\n",
        "    plt.text(j, i, format(cm[i, j], 'd'), horizontalalignment=\"center\",\n",
        "             color=\"white\" if cm[i, j] > thresh else \"black\")\n",
        "plt.tight_layout()\n",
        "plt.ylabel('True label')\n",
        "plt.xlabel('Predicted label')\n",
        "\n",
        "# Calculate precision and recall\n",
        "y_scores2 = np.array(y_scores)\n",
        "precision2, recall2, _ = precision_recall_curve(y_true, y_scores2[:, 1], pos_label=1)\n",
        "\n",
        "# Plot precision-recall curve\n",
        "plt.figure()\n",
        "plt.step(recall2, precision2, color='b', alpha=0.2, where='post')\n",
        "plt.fill_between(recall2, precision2, step='post', alpha=0.2, color='b')\n",
        "plt.xlabel('Recall')\n",
        "plt.ylabel('Precision')\n",
        "plt.ylim([0.0, 1.05])\n",
        "plt.xlim([0.0, 1.0])\n",
        "plt.title('Precision-Recall Curve')\n",
        "\n",
        "plt.show()\n"
      ],
      "metadata": {
        "colab": {
          "base_uri": "https://localhost:8080/",
          "height": 978
        },
        "id": "6zneG9MXr19o",
        "outputId": "f1ada418-66a0-4f3b-e41e-5351c9624ce6"
      },
      "execution_count": null,
      "outputs": [
        {
          "output_type": "stream",
          "name": "stderr",
          "text": [
            "100%|██████████| 637/637 [00:21<00:00, 29.16it/s]\n"
          ]
        },
        {
          "output_type": "display_data",
          "data": {
            "text/plain": [
              "<Figure size 640x480 with 2 Axes>"
            ],
            "image/png": "[encoded data removed]"
          },
          "metadata": {}
        },
        {
          "output_type": "display_data",
          "data": {
            "text/plain": [
              "<Figure size 640x480 with 1 Axes>"
            ],
            "image/png": "[encoded data removed]"
          },
          "metadata": {}
        }
      ]
    },
    {
      "cell_type": "code",
      "source": [
        "display(accuracy_str2)"
      ],
      "metadata": {
        "colab": {
          "base_uri": "https://localhost:8080/",
          "height": 35
        },
        "id": "gtGAgJaW8Xyt",
        "outputId": "fb7a6bf2-728f-42b1-d638-956e947ea967"
      },
      "execution_count": null,
      "outputs": [
        {
          "output_type": "display_data",
          "data": {
            "text/plain": [
              "'0.97704'"
            ],
            "application/vnd.google.colaboratory.intrinsic+json": {
              "type": "string"
            }
          },
          "metadata": {}
        }
      ]
    },
    {
      "cell_type": "code",
      "source": [
        "from sklearn.metrics import precision_score\n",
        "\n",
        "# Calculate precision for each class\n",
        "precision_per_class = precision_score(y_true, y_pred, average=None)\n",
        "\n",
        "# Print precision for each class\n",
        "for i, class_label in enumerate(classes2keep_folder):\n",
        "    display(\"Precision for class {}: {:.5f}\".format(class_label, precision_per_class[i]))\n"
      ],
      "metadata": {
        "colab": {
          "base_uri": "https://localhost:8080/",
          "height": 182
        },
        "id": "tqBwyaBA6v11",
        "outputId": "2933b6bb-09dc-40fd-f1e2-6c25ff2e1604"
      },
      "execution_count": null,
      "outputs": [
        {
          "output_type": "display_data",
          "data": {
            "text/plain": [
              "'Precision for class N: 0.98130'"
            ],
            "application/vnd.google.colaboratory.intrinsic+json": {
              "type": "string"
            }
          },
          "metadata": {}
        },
        {
          "output_type": "display_data",
          "data": {
            "text/plain": [
              "'Precision for class P: 0.99706'"
            ],
            "application/vnd.google.colaboratory.intrinsic+json": {
              "type": "string"
            }
          },
          "metadata": {}
        },
        {
          "output_type": "display_data",
          "data": {
            "text/plain": [
              "'Precision for class A: 0.89922'"
            ],
            "application/vnd.google.colaboratory.intrinsic+json": {
              "type": "string"
            }
          },
          "metadata": {}
        },
        {
          "output_type": "display_data",
          "data": {
            "text/plain": [
              "'Precision for class L: 0.99219'"
            ],
            "application/vnd.google.colaboratory.intrinsic+json": {
              "type": "string"
            }
          },
          "metadata": {}
        },
        {
          "output_type": "display_data",
          "data": {
            "text/plain": [
              "'Precision for class R: 0.98204'"
            ],
            "application/vnd.google.colaboratory.intrinsic+json": {
              "type": "string"
            }
          },
          "metadata": {}
        },
        {
          "output_type": "display_data",
          "data": {
            "text/plain": [
              "'Precision for class f: 0.72115'"
            ],
            "application/vnd.google.colaboratory.intrinsic+json": {
              "type": "string"
            }
          },
          "metadata": {}
        },
        {
          "output_type": "display_data",
          "data": {
            "text/plain": [
              "'Precision for class j: 0.63636'"
            ],
            "application/vnd.google.colaboratory.intrinsic+json": {
              "type": "string"
            }
          },
          "metadata": {}
        },
        {
          "output_type": "display_data",
          "data": {
            "text/plain": [
              "'Precision for class F: 0.91837'"
            ],
            "application/vnd.google.colaboratory.intrinsic+json": {
              "type": "string"
            }
          },
          "metadata": {}
        },
        {
          "output_type": "display_data",
          "data": {
            "text/plain": [
              "'Precision for class a: 1.00000'"
            ],
            "application/vnd.google.colaboratory.intrinsic+json": {
              "type": "string"
            }
          },
          "metadata": {}
        }
      ]
    },
    {
      "cell_type": "code",
      "source": [
        "precision_list = []\n",
        "for i, class_label in enumerate(classes2keep_folder):\n",
        "    precision_list.append(precision_per_class[i])\n",
        "\n",
        "# Print precision list\n",
        "display(\"Precision List:\", precision_list)"
      ],
      "metadata": {
        "colab": {
          "base_uri": "https://localhost:8080/",
          "height": 192
        },
        "id": "JCu_Uqle-HMe",
        "outputId": "ea551601-139b-49a6-8673-a733b6b9301e"
      },
      "execution_count": null,
      "outputs": [
        {
          "output_type": "display_data",
          "data": {
            "text/plain": [
              "'Precision List:'"
            ],
            "application/vnd.google.colaboratory.intrinsic+json": {
              "type": "string"
            }
          },
          "metadata": {}
        },
        {
          "output_type": "display_data",
          "data": {
            "text/plain": [
              "[0.9812985644672725,\n",
              " 0.9970588235294118,\n",
              " 0.8992248062015504,\n",
              " 0.9921875,\n",
              " 0.9820441988950276,\n",
              " 0.7211538461538461,\n",
              " 0.6363636363636364,\n",
              " 0.9183673469387755,\n",
              " 1.0]"
            ]
          },
          "metadata": {}
        }
      ]
    },
    {
      "cell_type": "code",
      "source": [
        "precision_2=[ 0.99 , 0.98, 0.98, 0.98, 0.99 , 1.00 ,1.00, 0.99, 1.00]"
      ],
      "metadata": {
        "id": "0AjG_Dp3-ebK"
      },
      "execution_count": null,
      "outputs": []
    },
    {
      "cell_type": "code",
      "source": [
        "import numpy as np\n",
        "import matplotlib.pyplot as plt\n",
        "\n",
        "# Precision values for Classifier 1\n",
        "#precision_1 = [0.85, 0.92, 0.78, 0.91, 0.82, 0.95, 0.88, 0.90, 0.83]\n",
        "\n",
        "# Precision values for Classifier 2\n",
        "#precision_2 = [0.91, 0.88, 0.95, 0.82, 0.90, 0.79, 0.92, 0.85, 0.88]\n",
        "\n",
        "# Classes\n",
        "classes = ['N', 'P', 'A', 'L', 'R', 'f', 'j', 'F', 'a']\n",
        "\n",
        "# Prepare data for the bar graph\n",
        "x = np.arange(len(classes))\n",
        "width = 0.30\n",
        "\n",
        "# Plot the bar graph\n",
        "fig, ax = plt.subplots()\n",
        "rects1 = ax.bar(x - width/2, precision_list, width, label='Classifier Trained on Imbalanced Dataset',color='salmon')\n",
        "rects2 = ax.bar(x + width/2, precision_2, width, label='Classifier Trained on Augmented Dataset',color='navy')\n",
        "\n",
        "ax.set_xlim(-width-.5, len(classes) - width+.5)\n",
        "\n",
        "# Set y-limits\n",
        "ax.set_ylim(0, 1.4)\n",
        "\n",
        "# Add labels, title, and ticks to the graph\n",
        "ax.set_ylabel('Precision')\n",
        "ax.set_title('Precision Comparison')\n",
        "ax.set_xticks(x)\n",
        "ax.set_xticklabels(classes)\n",
        "ax.legend()\n",
        "'''\n",
        "# Add values above each bar\n",
        "def autolabel(rects):\n",
        "    for rect in rects:\n",
        "        height = rect.get_height()\n",
        "        ax.annotate('{:.2f}'.format(height),\n",
        "                    xy=(rect.get_x() + rect.get_width() / 2, height),\n",
        "                    xytext=(0, 3),\n",
        "                    textcoords=\"offset points\",\n",
        "                    ha='center', va='bottom')\n",
        "\n",
        "autolabel(rects1)\n",
        "autolabel(rects2)\n",
        "'''\n",
        "plt.show()\n"
      ],
      "metadata": {
        "colab": {
          "base_uri": "https://localhost:8080/",
          "height": 452
        },
        "id": "WfUcfqMf2nae",
        "outputId": "d41d5d66-d019-4156-9336-d7e736d4b88d"
      },
      "execution_count": null,
      "outputs": [
        {
          "output_type": "display_data",
          "data": {
            "text/plain": [
              "<Figure size 640x480 with 1 Axes>"
            ],
            "image/png": "[encoded data removed]"
          },
          "metadata": {}
        }
      ]
    },
    {
      "cell_type": "code",
      "source": [
        "import numpy as np\n",
        "import matplotlib.pyplot as plt\n",
        "from mpl_toolkits.mplot3d import Axes3D\n",
        "\n",
        "# Recall values for Classifier 1\n",
        "recall_1 = [0.99, 0.97, 0.91, 0.95, 0.98, 0.77, 0.32, 0.56, 0.36]\n",
        "\n",
        "# Recall values for Classifier 2\n",
        "recall_2 = [0.99, 1.00, 0.99, 0.99, 0.99, 0.96,0.99, 1.00, 1.00]\n",
        "\n",
        "# Classes\n",
        "classes = ['N', 'P', 'A', 'L', 'R', 'f', 'j', 'F', 'a']\n",
        "\n",
        "\n",
        "\n",
        "x = np.arange(len(classes))\n",
        "width = 0.30\n",
        "\n",
        "# Plot the bar graph\n",
        "fig, ax = plt.subplots()\n",
        "rects1 = ax.bar(x, recall_1, width, label='Classifier Trained on Imbalanced Dataset', color='palegreen')\n",
        "rects2 = ax.bar(x + width, recall_2, width, label='Classifier Trained on Augmented Dataset', color='darkgreen')\n",
        "\n",
        "# Adjust the distance between bars of the same class\n",
        "ax.set_xlim(-width, len(classes))\n",
        "\n",
        "# Set y-limits\n",
        "ax.set_ylim(0, 1.4)\n",
        "\n",
        "# Add labels, title, and ticks to the graph\n",
        "ax.set_ylabel('Recall')\n",
        "ax.set_title('Recall Comparison')\n",
        "ax.set_xticks(x + width / 2)\n",
        "ax.set_xticklabels(classes)\n",
        "ax.legend()\n",
        "\n",
        "plt.show()\n",
        "\n",
        "\n",
        "# Recall values for Classifier 1\n",
        "fscore_1 = [0.99, 0.98, 0.91, 0.97, 0.98, 0.74, 0.42, 0.70, 0.53]\n",
        "\n",
        "# Recall values for Classifier 2\n",
        "fscore_2 = [0.99, 0.99 , 0.99, 0.98, 0.99, 0.98,0.99, 0.99 , 1.00]\n",
        "\n",
        "# Classes\n",
        "classes = ['N', 'P', 'A', 'L', 'R', 'f', 'j', 'F', 'a']\n",
        "\n",
        "\n",
        "\n",
        "x = np.arange(len(classes))\n",
        "width = 0.30\n",
        "\n",
        "# Plot the bar graph\n",
        "fig, ax = plt.subplots()\n",
        "rects1 = ax.bar(x, fscore_1, width, label='Classifier Trained on Imbalanced Dataset', color='sandybrown')\n",
        "rects2 = ax.bar(x + width, fscore_2, width, label='Classifier Trained on Augmented Dataset', color='brown')\n",
        "\n",
        "# Adjust the distance between bars of the same class\n",
        "ax.set_xlim(-width, len(classes))\n",
        "\n",
        "# Set y-limits\n",
        "ax.set_ylim(0, 1.4)\n",
        "\n",
        "# Add labels, title, and ticks to the graph\n",
        "ax.set_ylabel('f1-score')\n",
        "ax.set_title('f1-score Comparison')\n",
        "ax.set_xticks(x + width / 2)\n",
        "ax.set_xticklabels(classes)\n",
        "ax.legend()\n",
        "plt.show()\n"
      ],
      "metadata": {
        "colab": {
          "base_uri": "https://localhost:8080/",
          "height": 887
        },
        "id": "wGxtnzLJGJdw",
        "outputId": "3afcb5ba-74cb-4bb1-bd41-f400599c9a61"
      },
      "execution_count": null,
      "outputs": [
        {
          "output_type": "display_data",
          "data": {
            "text/plain": [
              "<Figure size 640x480 with 1 Axes>"
            ],
            "image/png": "[encoded data removed]"
          },
          "metadata": {}
        },
        {
          "output_type": "display_data",
          "data": {
            "text/plain": [
              "<Figure size 640x480 with 1 Axes>"
            ],
            "image/png": "[encoded data removed]"
          },
          "metadata": {}
        }
      ]
    }
  ]
}